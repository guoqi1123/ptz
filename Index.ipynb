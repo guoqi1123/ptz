{
 "cells": [
  {
   "cell_type": "markdown",
   "metadata": {},
   "source": [
    "# Python from Zero\n",
    "\n",
    "\n",
    "[Qi Guo](scholar.harvard.edu/qguo), [qguo@seas.harvard.edu](mailto:qguo@seas.harvard.edu)"
   ]
  },
  {
   "cell_type": "markdown",
   "metadata": {},
   "source": [
    "*It has often been said that a person does not really understand something until he teaches it to someone else. Actually a person does not really understand something until after teaching it to a computer, i.e., express it as an algorithm.*  \n",
    "\n",
    "*--Donald Knuth in \"American Mathematical Monthly,\" 81*"
   ]
  },
  {
   "cell_type": "markdown",
   "metadata": {},
   "source": [
    "This Python tutorial is designated for people with zero background in computer programming. It is specially targeted for people in non-engineering areas such as social sciences, medical sciences, finance, art, etc., with focus in data analysis. The tutorial consists of existing online materials filtered by the author, and customly developed exercises. The tutorial is actively under development, and the author welcomes all suggestions and feedbacks. "
   ]
  },
  {
   "cell_type": "markdown",
   "metadata": {},
   "source": [
    "## 1. Programming languages in a nutshell\n",
    "\n",
    "Humans use languages to interact with each other, and programming languages enable the interaction between a human and a computer. A computer chip is designed to only read binary commands, like those \"0110110101\" -- these binary commands must be translated to *another language* before can be understood by humans. Thus, humans invented programming languages that are suitable for the interpretation by programmers, and at the same time could be automatically *compiled* to operatable binary commands for the machines. Read [this](http://guyhaas.com/bfoit/itp/Programming.html) webpage if you are interested in learning more about programming languages.\n",
    "\n",
    "\n",
    "Python is a programming language that is highly interpretable to people. It is especially suitable for scripting computer programs in a short amount of time for research and prototyping, thus Python is widely adopted nowadays in machine learning and data science communities. In return, people in these communites developed a bunch of handy programming tools called *packages* and *modules* that even facilitate Python programming.  "
   ]
  },
  {
   "cell_type": "markdown",
   "metadata": {},
   "source": [
    "## 2. Setting up Python on your computer\n",
    "\n",
    "This Python tutorial is based on [Anaconda](https://www.anaconda.com/). It is a data science platform that provides great supports and package management for Python. We will use the [Jupyter Notebook](https://jupyter.org/) as our interactive development environment (IDE). The Jupyter Notebook is a very convenient, widely-used Python coding environment that you already saw. Yes, you are right. This tutorial is written in Jupyter Notebook!"
   ]
  },
  {
   "cell_type": "markdown",
   "metadata": {},
   "source": [
    "### 2.1. Installing Anaconda\n",
    "\n",
    "1. Follow [this](https://docs.anaconda.com/anaconda/install/) blog post to install the Anaconda Python in your computer. Select the installation procedure according to your operating system.\n",
    "\n",
    "\n",
    "2. After your installation of Anaconda is verified, launch the `Anaconda Navigator`. On Windows, the installer will create a Start menu shortcut for Navigator. On macOS, if using the GUI (.pkg) installer, you’ll get an icon for Navigator in Launchpad. On Linux or macOS installed via .sh installer, open a terminal and enter this command:\n",
    "`anaconda-navigator`. Check [here](https://docs.anaconda.com/anaconda/navigator/#) for detail.\n",
    "\n",
    "\n",
    "3. You should see a window like below. Take a look at the menu of `Anaconda Navigator` and the explanations (described [here](https://docs.anaconda.com/anaconda/navigator/overview/)). Pay special attention to the `Home` tab and the `Environments` tab, which we will use the most.\n",
    "\n",
    "![Anaconda Navigator](figs/anaconda_navigator.png)\n"
   ]
  },
  {
   "cell_type": "markdown",
   "metadata": {},
   "source": [
    "### 2.2. Python environment\n",
    "\n",
    "An advantage of Anaconda is that it provides very good managements of *Python environments*. A Python environment consists of all outside packages and modules that the Python compiler will see when running a program. As previously said, Python programmers will almost surely use a myrid of *packages* in their projects to facilitate development, and different Python projects may require different outside packages. It is highly possible that potential conflicts arise between packages required for different projects. Thus it is important to create independent Python environment for different projects, so that conflicting outside packages will be invisible to each other. \n",
    "\n",
    "Read [this](https://docs.anaconda.com/anaconda/navigator/getting-started/#navigator-managing-environments) webpage on managing environments, python, and packages using `Anaconda Navigator`. "
   ]
  },
  {
   "cell_type": "markdown",
   "metadata": {},
   "source": [
    "**Exercise 2.2.1.**\n",
    "1. Create a new Python environment using your `Anaconda Navigator`. Use whatever name you would like for the environment. Select Python version 3.5. \n",
    "2. Activate the environment. \n",
    "3. Install a new package `matplotlib` to the environment. You can choose whichever version that shows up. \n",
    "4. Navigate back to `Home` tab, install `Jupyter Notebook`.\n",
    "5. Launch `Jupyter Notebook`."
   ]
  },
  {
   "cell_type": "markdown",
   "metadata": {},
   "source": [
    "### 2.3. Jupyter Notebook\n",
    "\n",
    "After finishing Exercise 2.2.1, the Jupyter Notebook should be launched in your default web browser, like below. \n",
    "\n",
    "![Jupyter Notebook](figs/jupyter_notebook.png)"
   ]
  },
  {
   "cell_type": "markdown",
   "metadata": {},
   "source": [
    "**Exercise 2.3.1.**\n",
    "\n",
    "Read through [this](https://www.dataquest.io/blog/jupyter-notebook-tutorial/) tutorial on Jupyter Notebook, starting from `Creating Your First Notebook` to before `Keyboard Shortcuts`. This allows you to create a first executable Python notebook with a few lines of Python code -- how exciting!"
   ]
  },
  {
   "cell_type": "markdown",
   "metadata": {},
   "source": [
    "**Exercise 2.3.2.**\n",
    "\n",
    "In your first Python notebook, verify that you successfully installed package `matplotlib` in Exercise 2.2.1. This package is a plotting tool for data visualization. We are now using `matplotlib` to draw something interesting!\n",
    "\n",
    "1. Copy the code in the following cell to your notebook. Run it by clicking the Downward Arrow or using `Shift+Enter` on your keyboard. This line of code *imports* the module `pyplot` in package `matplotlib` into our notebook and it renames `pyplot` as `plt` for convenience. This line of code enables people to call helper functions defined in `pyplot`. For a complete list of functions and their usage, please check out [this](https://matplotlib.org/) website."
   ]
  },
  {
   "cell_type": "code",
   "execution_count": 2,
   "metadata": {},
   "outputs": [],
   "source": [
    "from matplotlib import pyplot as plt"
   ]
  },
  {
   "cell_type": "markdown",
   "metadata": {},
   "source": [
    "2. The number in front of the cells tells the sequence of execution in the notebook. Behind the Notebook there is a Python kernel that runs the program, read the section `Kernels` in [this](https://www.dataquest.io/blog/jupyter-notebook-tutorial/) tutorial to understand more.\n",
    "\n",
    "3. We will now use the package `matplotlib` to do some data visualization. For example, below we have the annual US GDP growth for the past four years, and we would like to draw a bar plot for it. "
   ]
  },
  {
   "cell_type": "code",
   "execution_count": 21,
   "metadata": {},
   "outputs": [
    {
     "data": {
      "image/png": "[encoded data removed]",
      "text/plain": [
       "<Figure size 432x288 with 1 Axes>"
      ]
     },
     "metadata": {
      "needs_background": "light"
     },
     "output_type": "display_data"
    }
   ],
   "source": [
    "T = [2016,2017,2018,2019] # year\n",
    "GDP_rate = [1.57, 2.22, 3.18, 2.33] # US GDP annual growth rate\n",
    "\n",
    "ax = plt.figure() # define a new figure\n",
    "plt.bar(T, GDP_rate) # input the data for X and Y axis \n",
    "plt.title('US Annual GDP Growth Rate')\n",
    "plt.xlabel('Year')\n",
    "plt.ylabel('Growth Rate (%)')\n",
    "plt.xticks(T) # set \n",
    "plt.show()"
   ]
  },
  {
   "cell_type": "code",
   "execution_count": null,
   "metadata": {},
   "outputs": [],
   "source": []
  }
 ],
 "metadata": {
  "kernelspec": {
   "display_name": "Python 3",
   "language": "python",
   "name": "python3"
  },
  "language_info": {
   "codemirror_mode": {
    "name": "ipython",
    "version": 3
   },
   "file_extension": ".py",
   "mimetype": "text/x-python",
   "name": "python",
   "nbconvert_exporter": "python",
   "pygments_lexer": "ipython3",
   "version": "3.5.6"
  }
 },
 "nbformat": 4,
 "nbformat_minor": 2
}
